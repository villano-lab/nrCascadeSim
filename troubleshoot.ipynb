{
 "cells": [
  {
   "cell_type": "code",
   "execution_count": 1,
   "id": "5399ba7f-3b8e-4300-be87-dea9e54b450c",
   "metadata": {},
   "outputs": [],
   "source": [
    "import uproot"
   ]
  },
  {
   "cell_type": "code",
   "execution_count": 14,
   "id": "a82290d0-f782-4df0-b29a-5135a7834cb1",
   "metadata": {},
   "outputs": [
    {
     "data": {
      "text/plain": [
       "[b'cascade;1']"
      ]
     },
     "execution_count": 14,
     "metadata": {},
     "output_type": "execute_result"
    }
   ],
   "source": [
    "x = uproot.open('~/output.root')\n",
    "x2 = uproot.open('~/output2.root')\n",
    "\n",
    "x.keys()"
   ]
  },
  {
   "cell_type": "code",
   "execution_count": 3,
   "id": "9a9a3dd3-3b95-4791-8b92-74130e37a8ee",
   "metadata": {},
   "outputs": [
    {
     "data": {
      "text/plain": [
       "[b'n', b'cid', b'Elev', b'taus', b'E', b'delE', b'I', b'Ei', b'time', b'Eg']"
      ]
     },
     "execution_count": 3,
     "metadata": {},
     "output_type": "execute_result"
    }
   ],
   "source": [
    "cas = x['cascade']\n",
    "cas2 = x2['cascade']\n",
    "\n",
    "cas.keys()"
   ]
  },
  {
   "cell_type": "code",
   "execution_count": 4,
   "id": "bcbdb916-a86a-48fd-aad0-6137bcfe91dd",
   "metadata": {},
   "outputs": [
    {
     "name": "stdout",
     "output_type": "stream",
     "text": [
      "[]\n"
     ]
    }
   ],
   "source": [
    "c_id = cas['cid']\n",
    "c_id2 = cas2['cid']\n",
    "\n",
    "cid_diff = c_id.array()-c_id2.array()\n",
    "\n",
    "print(cid_diff[cid_diff!=0])"
   ]
  },
  {
   "cell_type": "code",
   "execution_count": 5,
   "id": "8a7a8831-f7c8-4048-afd5-f45314373c04",
   "metadata": {},
   "outputs": [
    {
     "name": "stdout",
     "output_type": "stream",
     "text": [
      "[]\n"
     ]
    }
   ],
   "source": [
    "cn = cas['n']\n",
    "cn2 = cas2['n']\n",
    "\n",
    "cn_diff = cn.array()-cn2.array()\n",
    "\n",
    "print(cn_diff[cn_diff!=0])"
   ]
  },
  {
   "cell_type": "code",
   "execution_count": 6,
   "id": "69c3133e-de86-4640-92df-fbb49d534964",
   "metadata": {},
   "outputs": [
    {
     "name": "stdout",
     "output_type": "stream",
     "text": [
      "[[] [] [] ... [] [] []]\n"
     ]
    },
    {
     "name": "stderr",
     "output_type": "stream",
     "text": [
      "/home/gerudo7/anaconda3/lib/python3.7/site-packages/ipykernel_launcher.py:9: DeprecationWarning: The truth value of an empty array is ambiguous. Returning False, but in future this will result in an error. Use `array.size > 0` to check that an array is not empty.\n",
      "  if __name__ == '__main__':\n"
     ]
    }
   ],
   "source": [
    "Elev = cas['Elev']\n",
    "Elev2 = cas2['Elev']\n",
    "\n",
    "Elev_diff= Elev.array()-Elev2.array()\n",
    "\n",
    "print(Elev_diff[Elev_diff!=0])\n",
    "\n",
    "for x in Elev_diff[Elev_diff!=0]:\n",
    "    if x!=[]:\n",
    "        print(x)"
   ]
  },
  {
   "cell_type": "code",
   "execution_count": 7,
   "id": "78c6f2b2-1d82-4373-8e27-eded6e17d925",
   "metadata": {},
   "outputs": [
    {
     "name": "stdout",
     "output_type": "stream",
     "text": [
      "[[] [] [] ... [] [] []]\n"
     ]
    },
    {
     "name": "stderr",
     "output_type": "stream",
     "text": [
      "/home/gerudo7/anaconda3/lib/python3.7/site-packages/ipykernel_launcher.py:9: DeprecationWarning: The truth value of an empty array is ambiguous. Returning False, but in future this will result in an error. Use `array.size > 0` to check that an array is not empty.\n",
      "  if __name__ == '__main__':\n"
     ]
    }
   ],
   "source": [
    "taus = cas['taus']\n",
    "taus2 = cas2['taus']\n",
    "\n",
    "taus_diff = taus.array()-taus2.array()\n",
    "\n",
    "print(taus_diff[taus_diff!=0])\n",
    "\n",
    "for x in taus_diff[taus_diff!=0]:\n",
    "    if x!=[]:\n",
    "        print(x)"
   ]
  },
  {
   "cell_type": "code",
   "execution_count": 8,
   "id": "34819011-7eb2-49b8-9135-6af559d99e3e",
   "metadata": {},
   "outputs": [
    {
     "name": "stdout",
     "output_type": "stream",
     "text": [
      "[[] [] [] ... [] [] []]\n"
     ]
    },
    {
     "name": "stderr",
     "output_type": "stream",
     "text": [
      "/home/gerudo7/anaconda3/lib/python3.7/site-packages/ipykernel_launcher.py:9: DeprecationWarning: The truth value of an empty array is ambiguous. Returning False, but in future this will result in an error. Use `array.size > 0` to check that an array is not empty.\n",
      "  if __name__ == '__main__':\n"
     ]
    }
   ],
   "source": [
    "E = cas['E']\n",
    "E2 = cas2['E']\n",
    "\n",
    "E_diff = E.array()-E2.array()\n",
    "\n",
    "print(E_diff[E_diff!=0])\n",
    "\n",
    "for x in E_diff[E_diff!=0]:\n",
    "    if x!=[]:\n",
    "        print(x)"
   ]
  },
  {
   "cell_type": "code",
   "execution_count": 9,
   "id": "45637ed0-cde2-4d84-8c22-027eae630f81",
   "metadata": {},
   "outputs": [
    {
     "name": "stdout",
     "output_type": "stream",
     "text": [
      "[[] [] [] ... [] [] []]\n"
     ]
    },
    {
     "name": "stderr",
     "output_type": "stream",
     "text": [
      "/home/gerudo7/anaconda3/lib/python3.7/site-packages/ipykernel_launcher.py:9: DeprecationWarning: The truth value of an empty array is ambiguous. Returning False, but in future this will result in an error. Use `array.size > 0` to check that an array is not empty.\n",
      "  if __name__ == '__main__':\n"
     ]
    }
   ],
   "source": [
    "delE = cas['delE']\n",
    "delE2 = cas2['delE']\n",
    "\n",
    "delE_diff = delE.array()-delE2.array()\n",
    "\n",
    "print(delE_diff[delE_diff!=0])\n",
    "\n",
    "for x in delE_diff[delE_diff!=0]:\n",
    "    if x!=[]:\n",
    "        print(x)"
   ]
  },
  {
   "cell_type": "code",
   "execution_count": 10,
   "id": "d93d9eaa-7762-492a-b9aa-96f77df74bb6",
   "metadata": {},
   "outputs": [
    {
     "name": "stdout",
     "output_type": "stream",
     "text": [
      "[[] [] [] ... [] [] []]\n"
     ]
    },
    {
     "name": "stderr",
     "output_type": "stream",
     "text": [
      "/home/gerudo7/anaconda3/lib/python3.7/site-packages/ipykernel_launcher.py:9: DeprecationWarning: The truth value of an empty array is ambiguous. Returning False, but in future this will result in an error. Use `array.size > 0` to check that an array is not empty.\n",
      "  if __name__ == '__main__':\n"
     ]
    }
   ],
   "source": [
    "I = cas['I']\n",
    "I2 = cas2['I']\n",
    "\n",
    "I_diff = I.array()-I2.array()\n",
    "\n",
    "print(I_diff[I_diff!=0])\n",
    "\n",
    "for x in I_diff[I_diff!=0]:\n",
    "    if x!=[]:\n",
    "        print(x)"
   ]
  },
  {
   "cell_type": "code",
   "execution_count": 11,
   "id": "6f119681-705e-431b-b338-23cdb6ff54a0",
   "metadata": {},
   "outputs": [
    {
     "name": "stdout",
     "output_type": "stream",
     "text": [
      "[[] [] [] ... [] [] []]\n"
     ]
    },
    {
     "name": "stderr",
     "output_type": "stream",
     "text": [
      "/home/gerudo7/anaconda3/lib/python3.7/site-packages/ipykernel_launcher.py:9: DeprecationWarning: The truth value of an empty array is ambiguous. Returning False, but in future this will result in an error. Use `array.size > 0` to check that an array is not empty.\n",
      "  if __name__ == '__main__':\n"
     ]
    }
   ],
   "source": [
    "Ei = cas['Ei']\n",
    "Ei2 = cas2['Ei']\n",
    "\n",
    "Ei_diff = Ei.array()-Ei2.array()\n",
    "\n",
    "print(Ei_diff[Ei_diff!=0])\n",
    "\n",
    "for x in Ei_diff[Ei_diff!=0]:\n",
    "    if x!=[]:\n",
    "        print(x)"
   ]
  },
  {
   "cell_type": "code",
   "execution_count": 12,
   "id": "931c6898-946d-4bf9-932d-08653b76e241",
   "metadata": {},
   "outputs": [
    {
     "name": "stdout",
     "output_type": "stream",
     "text": [
      "[[] [] [] ... [] [] []]\n"
     ]
    },
    {
     "name": "stderr",
     "output_type": "stream",
     "text": [
      "/home/gerudo7/anaconda3/lib/python3.7/site-packages/ipykernel_launcher.py:9: DeprecationWarning: The truth value of an empty array is ambiguous. Returning False, but in future this will result in an error. Use `array.size > 0` to check that an array is not empty.\n",
      "  if __name__ == '__main__':\n"
     ]
    }
   ],
   "source": [
    "time = cas['time']\n",
    "time2 = cas2['time']\n",
    "\n",
    "time_diff = time.array()-time2.array()\n",
    "\n",
    "print(time_diff[time_diff!=0])\n",
    "\n",
    "for x in time_diff[time_diff!=0]:\n",
    "    if x!=[]:\n",
    "        print(x)"
   ]
  },
  {
   "cell_type": "code",
   "execution_count": 13,
   "id": "bfc1ae06-0b88-439d-9331-fc3bfa633eda",
   "metadata": {},
   "outputs": [
    {
     "name": "stdout",
     "output_type": "stream",
     "text": [
      "[[] [] [] ... [] [] []]\n"
     ]
    },
    {
     "name": "stderr",
     "output_type": "stream",
     "text": [
      "/home/gerudo7/anaconda3/lib/python3.7/site-packages/ipykernel_launcher.py:9: DeprecationWarning: The truth value of an empty array is ambiguous. Returning False, but in future this will result in an error. Use `array.size > 0` to check that an array is not empty.\n",
      "  if __name__ == '__main__':\n"
     ]
    }
   ],
   "source": [
    "Eg = cas['Eg']\n",
    "Eg2 = cas2['Eg']\n",
    "\n",
    "Eg_diff = Eg.array()-Eg2.array()\n",
    "\n",
    "print(Eg_diff[Eg_diff!=0])\n",
    "\n",
    "for x in Eg_diff[Eg_diff!=0]:\n",
    "    if x!=[]:\n",
    "        print(x)"
   ]
  },
  {
   "cell_type": "code",
   "execution_count": null,
   "id": "e62f77dd-a960-4b16-96a5-fac2039374ae",
   "metadata": {},
   "outputs": [],
   "source": []
  }
 ],
 "metadata": {
  "kernelspec": {
   "display_name": "Python 3",
   "language": "python",
   "name": "python3"
  },
  "language_info": {
   "codemirror_mode": {
    "name": "ipython",
    "version": 3
   },
   "file_extension": ".py",
   "mimetype": "text/x-python",
   "name": "python",
   "nbconvert_exporter": "python",
   "pygments_lexer": "ipython3",
   "version": "3.7.9"
  }
 },
 "nbformat": 4,
 "nbformat_minor": 5
}
